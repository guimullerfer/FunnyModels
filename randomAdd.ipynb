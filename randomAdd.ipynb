{
  "nbformat": 4,
  "nbformat_minor": 0,
  "metadata": {
    "colab": {
      "name": "MNSIT.ipynb",
      "provenance": []
    },
    "kernelspec": {
      "name": "python3",
      "display_name": "Python 3"
    },
    "language_info": {
      "name": "python"
    },
    "accelerator": "GPU"
  },
  "cells": [
    {
      "cell_type": "code",
      "metadata": {
        "id": "rLDd667KLj1d"
      },
      "source": [
        "from __future__ import absolute_import, division, print_function, unicode_literals\n",
        "\n",
        "# Install TensorFlow\n",
        "try:\n",
        "  # %tensorflow_version only exists in Colab.\n",
        "  %tensorflow_version 2.x\n",
        "except Exception:\n",
        "  pass\n",
        "\n",
        "import tensorflow as tf"
      ],
      "execution_count": null,
      "outputs": []
    },
    {
      "cell_type": "code",
      "metadata": {
        "colab": {
          "base_uri": "https://localhost:8080/"
        },
        "id": "blqOKfL9Lmdk",
        "outputId": "a042c50a-5da3-49bd-d6a3-590d1633f94b"
      },
      "source": [
        "mnist = tf.keras.datasets.mnist\n",
        "\n",
        "(x_train, y_train), (x_test, y_test) = mnist.load_data()\n",
        "x_train, x_test = x_train / 255.0, x_test / 255.0"
      ],
      "execution_count": null,
      "outputs": [
        {
          "output_type": "stream",
          "name": "stdout",
          "text": [
            "Downloading data from https://storage.googleapis.com/tensorflow/tf-keras-datasets/mnist.npz\n",
            "11493376/11490434 [==============================] - 0s 0us/step\n",
            "11501568/11490434 [==============================] - 0s 0us/step\n"
          ]
        }
      ]
    },
    {
      "cell_type": "code",
      "metadata": {
        "id": "rUwKGT3jLuXc"
      },
      "source": [
        "from random import randrange\n",
        "\n",
        "def random_add(img,where='train'):\n",
        "    j = randrange(4) + 1\n",
        "    newImg = img\n",
        "    for i in range(0,j):\n",
        "        if (where == 'train'):\n",
        "            randomPick = randrange(x_train.shape[0])\n",
        "            randomMagnitude = 1/(randrange(9)+1)\n",
        "            newImg = newImg + randomMagnitude * x_train[randomPick]\n",
        "    return newImg/(np.max(newImg))       "
      ],
      "execution_count": null,
      "outputs": []
    },
    {
      "cell_type": "code",
      "metadata": {
        "colab": {
          "base_uri": "https://localhost:8080/",
          "height": 282
        },
        "id": "6P2hEa-cL1de",
        "outputId": "c0f6be3b-565a-4448-ea26-30f21023dec1"
      },
      "source": [
        "from matplotlib import pyplot as plt\n",
        "import numpy as np\n",
        "plt.imshow(random_add(x_train[4]), cmap='gray')"
      ],
      "execution_count": null,
      "outputs": [
        {
          "output_type": "execute_result",
          "data": {
            "text/plain": [
              "<matplotlib.image.AxesImage at 0x7f12545c9890>"
            ]
          },
          "metadata": {},
          "execution_count": 4
        },
        {
          "output_type": "display_data",
          "data": {
            "image/png": "[encoded data removed]",
            "text/plain": [
              "<Figure size 432x288 with 1 Axes>"
            ]
          },
          "metadata": {
            "needs_background": "light"
          }
        }
      ]
    },
    {
      "cell_type": "code",
      "metadata": {
        "id": "5HN_edXzMR18"
      },
      "source": [
        "train_img_fit = []\n",
        "train_label_fit = []\n",
        "for i in range(0, x_train.shape[0]):\n",
        "    train_img_fit.append(random_add(x_train[i]))\n",
        "    train_img_fit.append(x_train[i])\n",
        "    train_label_fit.append(y_train[i])\n",
        "    train_label_fit.append(y_train[i])\n",
        "train_img_fit = np.array(train_img_fit)\n",
        "train_label_fit = np.array(train_label_fit)"
      ],
      "execution_count": null,
      "outputs": []
    },
    {
      "cell_type": "code",
      "metadata": {
        "id": "sceCYAiNMycz"
      },
      "source": [
        "model = tf.keras.models.Sequential([\n",
        "  tf.keras.layers.Flatten(input_shape=(28, 28)),\n",
        "  tf.keras.layers.Dense(128, activation='relu'),\n",
        "  tf.keras.layers.Dropout(0.2),\n",
        "  tf.keras.layers.Dense(10, activation='softmax')\n",
        "])\n",
        "\n",
        "model.compile(optimizer='adam',\n",
        "              loss='sparse_categorical_crossentropy',\n",
        "              metrics=['accuracy'])"
      ],
      "execution_count": null,
      "outputs": []
    },
    {
      "cell_type": "code",
      "metadata": {
        "colab": {
          "base_uri": "https://localhost:8080/"
        },
        "id": "dxMmLeZENDEI",
        "outputId": "09e42551-6e3a-413d-e53b-c3fb06b56337"
      },
      "source": [
        "train_img_fit.shape"
      ],
      "execution_count": null,
      "outputs": [
        {
          "output_type": "execute_result",
          "data": {
            "text/plain": [
              "(120000, 28, 28)"
            ]
          },
          "metadata": {},
          "execution_count": 7
        }
      ]
    },
    {
      "cell_type": "code",
      "metadata": {
        "colab": {
          "base_uri": "https://localhost:8080/"
        },
        "id": "sFNnaJ3eNF0U",
        "outputId": "6e2b5676-2c0a-41ee-cf3f-ab297ad522c2"
      },
      "source": [
        "train_label_fit.shape"
      ],
      "execution_count": null,
      "outputs": [
        {
          "output_type": "execute_result",
          "data": {
            "text/plain": [
              "(120000,)"
            ]
          },
          "metadata": {},
          "execution_count": 8
        }
      ]
    },
    {
      "cell_type": "code",
      "metadata": {
        "colab": {
          "base_uri": "https://localhost:8080/"
        },
        "id": "mqhQyBlQM53d",
        "outputId": "f17d7751-e610-480a-d56c-c211c0152280"
      },
      "source": [
        "model.fit(train_img_fit, train_label_fit, epochs=15)\n",
        "\n",
        "model.evaluate(x_test,  y_test, verbose=2)"
      ],
      "execution_count": null,
      "outputs": [
        {
          "output_type": "stream",
          "name": "stdout",
          "text": [
            "Epoch 1/15\n",
            "3750/3750 [==============================] - 7s 2ms/step - loss: 0.3694 - accuracy: 0.8794\n",
            "Epoch 2/15\n",
            "3750/3750 [==============================] - 7s 2ms/step - loss: 0.3368 - accuracy: 0.8880\n",
            "Epoch 3/15\n",
            "3750/3750 [==============================] - 7s 2ms/step - loss: 0.3141 - accuracy: 0.8951\n",
            "Epoch 4/15\n",
            "3750/3750 [==============================] - 7s 2ms/step - loss: 0.3005 - accuracy: 0.8983\n",
            "Epoch 5/15\n",
            "3750/3750 [==============================] - 7s 2ms/step - loss: 0.2878 - accuracy: 0.9027\n",
            "Epoch 6/15\n",
            "3750/3750 [==============================] - 7s 2ms/step - loss: 0.2783 - accuracy: 0.9052\n",
            "Epoch 7/15\n",
            "3750/3750 [==============================] - 7s 2ms/step - loss: 0.2708 - accuracy: 0.9076\n",
            "Epoch 8/15\n",
            "3750/3750 [==============================] - 7s 2ms/step - loss: 0.2635 - accuracy: 0.9090\n",
            "Epoch 9/15\n",
            "3750/3750 [==============================] - 7s 2ms/step - loss: 0.2582 - accuracy: 0.9116\n",
            "Epoch 10/15\n",
            "3750/3750 [==============================] - 7s 2ms/step - loss: 0.2514 - accuracy: 0.9132\n",
            "Epoch 11/15\n",
            "3750/3750 [==============================] - 7s 2ms/step - loss: 0.2472 - accuracy: 0.9151\n",
            "Epoch 12/15\n",
            "3750/3750 [==============================] - 7s 2ms/step - loss: 0.2425 - accuracy: 0.9155\n",
            "Epoch 13/15\n",
            "3750/3750 [==============================] - 7s 2ms/step - loss: 0.2376 - accuracy: 0.9179\n",
            "Epoch 14/15\n",
            "3750/3750 [==============================] - 7s 2ms/step - loss: 0.2340 - accuracy: 0.9175\n",
            "Epoch 15/15\n",
            "3750/3750 [==============================] - 7s 2ms/step - loss: 0.2311 - accuracy: 0.9190\n",
            "313/313 - 1s - loss: 0.0877 - accuracy: 0.9781 - 582ms/epoch - 2ms/step\n"
          ]
        },
        {
          "output_type": "execute_result",
          "data": {
            "text/plain": [
              "[0.08772172778844833, 0.9781000018119812]"
            ]
          },
          "metadata": {},
          "execution_count": 12
        }
      ]
    }
  ]
}